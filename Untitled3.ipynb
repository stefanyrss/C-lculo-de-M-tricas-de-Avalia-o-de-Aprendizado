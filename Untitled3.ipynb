{
  "nbformat": 4,
  "nbformat_minor": 0,
  "metadata": {
    "colab": {
      "provenance": []
    },
    "kernelspec": {
      "name": "python3",
      "display_name": "Python 3"
    },
    "language_info": {
      "name": "python"
    }
  },
  "cells": [
    {
      "cell_type": "code",
      "execution_count": 1,
      "metadata": {
        "colab": {
          "base_uri": "https://localhost:8080/"
        },
        "id": "1MXPfnMce2Ro",
        "outputId": "bff47285-9e34-4c75-ec37-98c058fa59ee"
      },
      "outputs": [
        {
          "output_type": "stream",
          "name": "stdout",
          "text": [
            "Sensibilidade: 0.91\n",
            "Especificidade: 0.75\n",
            "Acurácia: 0.84\n",
            "Precisão: 0.83\n",
            "F-score: 0.87\n"
          ]
        }
      ],
      "source": [
        "# Função para calcular a sensibilidade (recall)\n",
        "def calcular_sensibilidade(vp, fn):\n",
        "    return vp / (vp + fn)\n",
        "\n",
        "# Função para calcular a especificidade\n",
        "def calcular_especificidade(vn, fp):\n",
        "    return vn / (fp + vn)\n",
        "\n",
        "# Função para calcular a acurácia\n",
        "def calcular_acuracia(vp, vn, total):\n",
        "    return (vp + vn) / total\n",
        "\n",
        "# Função para calcular a precisão\n",
        "def calcular_precisao(vp, fp):\n",
        "    return vp / (vp + fp)\n",
        "\n",
        "# Função para calcular o F-score\n",
        "def calcular_fscore(precisao, sensibilidade):\n",
        "    return 2 * (precisao * sensibilidade) / (precisao + sensibilidade)\n",
        "\n",
        "# Função principal para calcular todas as métricas com base em uma matriz de confusão\n",
        "def calcular_metricas(vp, vn, fp, fn):\n",
        "    total = vp + vn + fp + fn\n",
        "    sensibilidade = calcular_sensibilidade(vp, fn)\n",
        "    especificidade = calcular_especificidade(vn, fp)\n",
        "    acuracia = calcular_acuracia(vp, vn, total)\n",
        "    precisao = calcular_precisao(vp, fp)\n",
        "    fscore = calcular_fscore(precisao, sensibilidade)\n",
        "\n",
        "    return {\n",
        "        \"Sensibilidade\": sensibilidade,\n",
        "        \"Especificidade\": especificidade,\n",
        "        \"Acurácia\": acuracia,\n",
        "        \"Precisão\": precisao,\n",
        "        \"F-score\": fscore\n",
        "    }\n",
        "\n",
        "# Exemplo de matriz de confusão (valores arbitrários)\n",
        "vp = 50  # Verdadeiros Positivos\n",
        "vn = 30  # Verdadeiros Negativos\n",
        "fp = 10  # Falsos Positivos\n",
        "fn = 5   # Falsos Negativos\n",
        "\n",
        "# Cálculo das métricas\n",
        "metricas = calcular_metricas(vp, vn, fp, fn)\n",
        "\n",
        "# Exibir os resultados\n",
        "for metrica, valor in metricas.items():\n",
        "    print(f\"{metrica}: {valor:.2f}\")\n"
      ]
    }
  ]
}